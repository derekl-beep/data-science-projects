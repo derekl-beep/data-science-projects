{
  "nbformat": 4,
  "nbformat_minor": 0,
  "metadata": {
    "colab": {
      "name": "stock-price-prediction.ipynb",
      "provenance": [],
      "collapsed_sections": [],
      "toc_visible": true
    },
    "kernelspec": {
      "name": "python3",
      "display_name": "Python 3"
    }
  },
  "cells": [
    {
      "cell_type": "markdown",
      "metadata": {
        "id": "xuGY57DXrQu4",
        "colab_type": "text"
      },
      "source": [
        "# Description\n",
        "This program uses an artifical recurrent neural network called Long Short Term Memory (LSTM) to predict the closing price of Apple Inc. using the past 60 day stock price.\n",
        "\n",
        "### Reference:\n",
        "https://youtu.be/QIUxPv5PJOY\n"
      ]
    },
    {
      "cell_type": "markdown",
      "metadata": {
        "id": "DpPB1xwKsEFd",
        "colab_type": "text"
      },
      "source": [
        "## Import Libraries\n"
      ]
    },
    {
      "cell_type": "code",
      "metadata": {
        "id": "bvNVy6DurKzp",
        "colab_type": "code",
        "colab": {
          "base_uri": "https://localhost:8080/"
        },
        "outputId": "4685036e-c80c-4d2a-80d0-5e2d96b99082"
      },
      "source": [
        "import math\n",
        "import pandas as pd\n",
        "import numpy as np\n",
        "import pandas_datareader as web\n",
        "from sklearn.preprocessing import MinMaxScaler\n",
        "from keras.models import Sequential\n",
        "from keras.layers import Dense, LSTM\n",
        "import matplotlib.pyplot as plt\n",
        "plt.style.use('fivethirtyeight')"
      ],
      "execution_count": null,
      "outputs": [
        {
          "output_type": "stream",
          "text": [
            "/usr/local/lib/python3.6/dist-packages/pandas_datareader/compat/__init__.py:7: FutureWarning: pandas.util.testing is deprecated. Use the functions in the public API at pandas.testing instead.\n",
            "  from pandas.util.testing import assert_frame_equal\n"
          ],
          "name": "stderr"
        }
      ]
    },
    {
      "cell_type": "markdown",
      "metadata": {
        "id": "EySqaP1ptVDO",
        "colab_type": "text"
      },
      "source": [
        "## Get Data"
      ]
    },
    {
      "cell_type": "code",
      "metadata": {
        "id": "6fkpE5_-sB2V",
        "colab_type": "code",
        "colab": {
          "base_uri": "https://localhost:8080/"
        },
        "outputId": "510f891a-468b-4b06-a2b8-a40e5e76ef44"
      },
      "source": [
        "# Get the stock quote\n",
        "df = web.DataReader('AAPL', data_source='yahoo', start='2012-01-01', end='2020-07-31')\n",
        "\n",
        "df.head()"
      ],
      "execution_count": null,
      "outputs": [
        {
          "output_type": "execute_result",
          "data": {
            "text/html": [
              "<div>\n",
              "<style scoped>\n",
              "    .dataframe tbody tr th:only-of-type {\n",
              "        vertical-align: middle;\n",
              "    }\n",
              "\n",
              "    .dataframe tbody tr th {\n",
              "        vertical-align: top;\n",
              "    }\n",
              "\n",
              "    .dataframe thead th {\n",
              "        text-align: right;\n",
              "    }\n",
              "</style>\n",
              "<table border=\"1\" class=\"dataframe\">\n",
              "  <thead>\n",
              "    <tr style=\"text-align: right;\">\n",
              "      <th></th>\n",
              "      <th>High</th>\n",
              "      <th>Low</th>\n",
              "      <th>Open</th>\n",
              "      <th>Close</th>\n",
              "      <th>Volume</th>\n",
              "      <th>Adj Close</th>\n",
              "    </tr>\n",
              "    <tr>\n",
              "      <th>Date</th>\n",
              "      <th></th>\n",
              "      <th></th>\n",
              "      <th></th>\n",
              "      <th></th>\n",
              "      <th></th>\n",
              "      <th></th>\n",
              "    </tr>\n",
              "  </thead>\n",
              "  <tbody>\n",
              "    <tr>\n",
              "      <th>2012-01-03</th>\n",
              "      <td>58.928570</td>\n",
              "      <td>58.428570</td>\n",
              "      <td>58.485714</td>\n",
              "      <td>58.747143</td>\n",
              "      <td>75555200.0</td>\n",
              "      <td>50.765709</td>\n",
              "    </tr>\n",
              "    <tr>\n",
              "      <th>2012-01-04</th>\n",
              "      <td>59.240002</td>\n",
              "      <td>58.468571</td>\n",
              "      <td>58.571430</td>\n",
              "      <td>59.062859</td>\n",
              "      <td>65005500.0</td>\n",
              "      <td>51.038536</td>\n",
              "    </tr>\n",
              "    <tr>\n",
              "      <th>2012-01-05</th>\n",
              "      <td>59.792858</td>\n",
              "      <td>58.952858</td>\n",
              "      <td>59.278572</td>\n",
              "      <td>59.718571</td>\n",
              "      <td>67817400.0</td>\n",
              "      <td>51.605175</td>\n",
              "    </tr>\n",
              "    <tr>\n",
              "      <th>2012-01-06</th>\n",
              "      <td>60.392857</td>\n",
              "      <td>59.888573</td>\n",
              "      <td>59.967144</td>\n",
              "      <td>60.342857</td>\n",
              "      <td>79573200.0</td>\n",
              "      <td>52.144630</td>\n",
              "    </tr>\n",
              "    <tr>\n",
              "      <th>2012-01-09</th>\n",
              "      <td>61.107143</td>\n",
              "      <td>60.192856</td>\n",
              "      <td>60.785713</td>\n",
              "      <td>60.247143</td>\n",
              "      <td>98506100.0</td>\n",
              "      <td>52.061932</td>\n",
              "    </tr>\n",
              "  </tbody>\n",
              "</table>\n",
              "</div>"
            ],
            "text/plain": [
              "                 High        Low       Open      Close      Volume  Adj Close\n",
              "Date                                                                         \n",
              "2012-01-03  58.928570  58.428570  58.485714  58.747143  75555200.0  50.765709\n",
              "2012-01-04  59.240002  58.468571  58.571430  59.062859  65005500.0  51.038536\n",
              "2012-01-05  59.792858  58.952858  59.278572  59.718571  67817400.0  51.605175\n",
              "2012-01-06  60.392857  59.888573  59.967144  60.342857  79573200.0  52.144630\n",
              "2012-01-09  61.107143  60.192856  60.785713  60.247143  98506100.0  52.061932"
            ]
          },
          "metadata": {
            "tags": []
          },
          "execution_count": 2
        }
      ]
    },
    {
      "cell_type": "code",
      "metadata": {
        "id": "OuwqagUMtIjU",
        "colab_type": "code",
        "colab": {
          "base_uri": "https://localhost:8080/",
          "height": 235
        },
        "outputId": "d0d7034c-d1ac-4f73-dbfc-f1e12392d1dc"
      },
      "source": [
        "df.tail()"
      ],
      "execution_count": null,
      "outputs": [
        {
          "output_type": "execute_result",
          "data": {
            "text/html": [
              "<div>\n",
              "<style scoped>\n",
              "    .dataframe tbody tr th:only-of-type {\n",
              "        vertical-align: middle;\n",
              "    }\n",
              "\n",
              "    .dataframe tbody tr th {\n",
              "        vertical-align: top;\n",
              "    }\n",
              "\n",
              "    .dataframe thead th {\n",
              "        text-align: right;\n",
              "    }\n",
              "</style>\n",
              "<table border=\"1\" class=\"dataframe\">\n",
              "  <thead>\n",
              "    <tr style=\"text-align: right;\">\n",
              "      <th></th>\n",
              "      <th>High</th>\n",
              "      <th>Low</th>\n",
              "      <th>Open</th>\n",
              "      <th>Close</th>\n",
              "      <th>Volume</th>\n",
              "      <th>Adj Close</th>\n",
              "    </tr>\n",
              "    <tr>\n",
              "      <th>Date</th>\n",
              "      <th></th>\n",
              "      <th></th>\n",
              "      <th></th>\n",
              "      <th></th>\n",
              "      <th></th>\n",
              "      <th></th>\n",
              "    </tr>\n",
              "  </thead>\n",
              "  <tbody>\n",
              "    <tr>\n",
              "      <th>2020-07-27</th>\n",
              "      <td>379.619995</td>\n",
              "      <td>373.920013</td>\n",
              "      <td>374.839996</td>\n",
              "      <td>379.239990</td>\n",
              "      <td>30303500.0</td>\n",
              "      <td>378.557434</td>\n",
              "    </tr>\n",
              "    <tr>\n",
              "      <th>2020-07-28</th>\n",
              "      <td>378.200012</td>\n",
              "      <td>372.989990</td>\n",
              "      <td>377.470001</td>\n",
              "      <td>373.010010</td>\n",
              "      <td>25906400.0</td>\n",
              "      <td>372.338684</td>\n",
              "    </tr>\n",
              "    <tr>\n",
              "      <th>2020-07-29</th>\n",
              "      <td>380.920013</td>\n",
              "      <td>374.850006</td>\n",
              "      <td>375.000000</td>\n",
              "      <td>380.160004</td>\n",
              "      <td>22582300.0</td>\n",
              "      <td>379.475800</td>\n",
              "    </tr>\n",
              "    <tr>\n",
              "      <th>2020-07-30</th>\n",
              "      <td>385.190002</td>\n",
              "      <td>375.070007</td>\n",
              "      <td>376.750000</td>\n",
              "      <td>384.760010</td>\n",
              "      <td>39532500.0</td>\n",
              "      <td>384.067535</td>\n",
              "    </tr>\n",
              "    <tr>\n",
              "      <th>2020-07-31</th>\n",
              "      <td>425.660004</td>\n",
              "      <td>403.299988</td>\n",
              "      <td>411.540009</td>\n",
              "      <td>425.040009</td>\n",
              "      <td>93584200.0</td>\n",
              "      <td>424.275024</td>\n",
              "    </tr>\n",
              "  </tbody>\n",
              "</table>\n",
              "</div>"
            ],
            "text/plain": [
              "                  High         Low  ...      Volume   Adj Close\n",
              "Date                                ...                        \n",
              "2020-07-27  379.619995  373.920013  ...  30303500.0  378.557434\n",
              "2020-07-28  378.200012  372.989990  ...  25906400.0  372.338684\n",
              "2020-07-29  380.920013  374.850006  ...  22582300.0  379.475800\n",
              "2020-07-30  385.190002  375.070007  ...  39532500.0  384.067535\n",
              "2020-07-31  425.660004  403.299988  ...  93584200.0  424.275024\n",
              "\n",
              "[5 rows x 6 columns]"
            ]
          },
          "metadata": {
            "tags": []
          },
          "execution_count": 3
        }
      ]
    },
    {
      "cell_type": "code",
      "metadata": {
        "id": "03jun49HtN4l",
        "colab_type": "code",
        "colab": {
          "base_uri": "https://localhost:8080/",
          "height": 34
        },
        "outputId": "abb1ba02-f4d6-4b94-c431-7dcc6ffd4d62"
      },
      "source": [
        "# Get the number of rows and columns in the data set\n",
        "df.shape"
      ],
      "execution_count": null,
      "outputs": [
        {
          "output_type": "execute_result",
          "data": {
            "text/plain": [
              "(2159, 6)"
            ]
          },
          "metadata": {
            "tags": []
          },
          "execution_count": 4
        }
      ]
    },
    {
      "cell_type": "code",
      "metadata": {
        "id": "1RMmMrK2togG",
        "colab_type": "code",
        "colab": {}
      },
      "source": [
        ""
      ],
      "execution_count": null,
      "outputs": []
    },
    {
      "cell_type": "markdown",
      "metadata": {
        "id": "gn6J4zgptrbw",
        "colab_type": "text"
      },
      "source": [
        "## Visualize the data\n"
      ]
    },
    {
      "cell_type": "code",
      "metadata": {
        "id": "rKVE89-ztsNd",
        "colab_type": "code",
        "colab": {
          "base_uri": "https://localhost:8080/"
        },
        "outputId": "019fbfd5-15cc-43b2-e22a-d8067295f099"
      },
      "source": [
        "plt.figure(figsize=(16,8))\n",
        "plt.title('Close Price History', fontsize=20)\n",
        "plt.plot(df['Close'])\n",
        "plt.xlabel('Date', fontsize=18)\n",
        "plt.ylabel('Close Price USD ($)', fontsize=18)\n",
        "plt.show()"
      ],
      "execution_count": null,
      "outputs": [
        {
          "output_type": "display_data",
          "data": {
            "image/png": "[encoded data removed]",
            "text/plain": [
              "<Figure size 1152x576 with 1 Axes>"
            ]
          },
          "metadata": {
            "tags": [],
            "needs_background": "light"
          }
        }
      ]
    },
    {
      "cell_type": "code",
      "metadata": {
        "id": "LGFFC6AgtsQE",
        "colab_type": "code",
        "colab": {}
      },
      "source": [
        ""
      ],
      "execution_count": null,
      "outputs": []
    },
    {
      "cell_type": "markdown",
      "metadata": {
        "id": "quk-ptpU6lVy",
        "colab_type": "text"
      },
      "source": [
        "## Create the Training Set"
      ]
    },
    {
      "cell_type": "code",
      "metadata": {
        "id": "-g7wiA59tsbI",
        "colab_type": "code",
        "colab": {
          "base_uri": "https://localhost:8080/",
          "height": 34
        },
        "outputId": "b21e9d8d-5fbd-4165-de58-9116246905b2"
      },
      "source": [
        "# Create a new dataframe with only the 'Close' column\n",
        "data = df.filter(['Close'])\n",
        "# Convert the dataframe to a numpy array\n",
        "dataset = data.values\n",
        "# Get the number of rows to train a model on\n",
        "training_data_len = math.ceil(len(dataset) * .8)\n",
        "\n",
        "training_data_len"
      ],
      "execution_count": null,
      "outputs": [
        {
          "output_type": "execute_result",
          "data": {
            "text/plain": [
              "1728"
            ]
          },
          "metadata": {
            "tags": []
          },
          "execution_count": 6
        }
      ]
    },
    {
      "cell_type": "code",
      "metadata": {
        "id": "c2ZPiUYpvqaW",
        "colab_type": "code",
        "colab": {
          "base_uri": "https://localhost:8080/",
          "height": 136
        },
        "outputId": "557955ea-4484-4429-ec74-9b6ef09cb62b"
      },
      "source": [
        "# Scale the data to be (0, 1) inclusively\n",
        "\n",
        "scaler = MinMaxScaler(feature_range=(0,1))\n",
        "scaled_data = scaler.fit_transform(dataset)\n",
        "\n",
        "scaled_data"
      ],
      "execution_count": null,
      "outputs": [
        {
          "output_type": "execute_result",
          "data": {
            "text/plain": [
              "array([[0.00800851],\n",
              "       [0.00886353],\n",
              "       [0.01063932],\n",
              "       ...,\n",
              "       [0.87845632],\n",
              "       [0.89091402],\n",
              "       [1.        ]])"
            ]
          },
          "metadata": {
            "tags": []
          },
          "execution_count": 7
        }
      ]
    },
    {
      "cell_type": "code",
      "metadata": {
        "id": "POnRoX4zwAX2",
        "colab_type": "code",
        "colab": {
          "base_uri": "https://localhost:8080/"
        },
        "outputId": "6003c6b0-d914-471e-842e-acefa2ab48ac"
      },
      "source": [
        "# Create the training dataset from the scaled dataset\n",
        "train_data = scaled_data[:training_data_len, :]\n",
        "\n",
        "# Split the data into x_train and y_train dataset\n",
        "x_train = []\n",
        "y_train = []\n",
        "\n",
        "for i in range(60, len(train_data)):\n",
        "  x_train.append(train_data[i-60: i, 0])\n",
        "  y_train.append(train_data[i,0])\n",
        "  \n",
        "  if i <= 61:\n",
        "    print(x_train)\n",
        "    print(y_train)\n",
        "    print()\n"
      ],
      "execution_count": null,
      "outputs": [
        {
          "output_type": "stream",
          "text": [
            "[array([0.00800851, 0.00886353, 0.01063932, 0.01233001, 0.0120708 ,\n",
            "       0.01265499, 0.01238804, 0.01193925, 0.01132798, 0.01321984,\n",
            "       0.01492601, 0.01439984, 0.01151755, 0.0142683 , 0.01156011,\n",
            "       0.02171583, 0.02093045, 0.0219557 , 0.02417255, 0.02551503,\n",
            "       0.02540284, 0.02498888, 0.02675307, 0.02841279, 0.03029307,\n",
            "       0.03333011, 0.03970984, 0.03980655, 0.04335816, 0.04601218,\n",
            "       0.0414508 , 0.04320727, 0.04317245, 0.0480975 , 0.04739723,\n",
            "       0.04869328, 0.05102233, 0.05231841, 0.05605184, 0.05877165,\n",
            "       0.05955701, 0.0598317 , 0.05518136, 0.05405938, 0.05422575,\n",
            "       0.05859753, 0.05982784, 0.06247025, 0.0686991 , 0.07700938,\n",
            "       0.0754541 , 0.07545796, 0.08146629, 0.08334654, 0.08200792,\n",
            "       0.08078538, 0.07951253, 0.08374116, 0.08664281, 0.08785763])]\n",
            "[0.08485539492813565]\n",
            "\n",
            "[array([0.00800851, 0.00886353, 0.01063932, 0.01233001, 0.0120708 ,\n",
            "       0.01265499, 0.01238804, 0.01193925, 0.01132798, 0.01321984,\n",
            "       0.01492601, 0.01439984, 0.01151755, 0.0142683 , 0.01156011,\n",
            "       0.02171583, 0.02093045, 0.0219557 , 0.02417255, 0.02551503,\n",
            "       0.02540284, 0.02498888, 0.02675307, 0.02841279, 0.03029307,\n",
            "       0.03333011, 0.03970984, 0.03980655, 0.04335816, 0.04601218,\n",
            "       0.0414508 , 0.04320727, 0.04317245, 0.0480975 , 0.04739723,\n",
            "       0.04869328, 0.05102233, 0.05231841, 0.05605184, 0.05877165,\n",
            "       0.05955701, 0.0598317 , 0.05518136, 0.05405938, 0.05422575,\n",
            "       0.05859753, 0.05982784, 0.06247025, 0.0686991 , 0.07700938,\n",
            "       0.0754541 , 0.07545796, 0.08146629, 0.08334654, 0.08200792,\n",
            "       0.08078538, 0.07951253, 0.08374116, 0.08664281, 0.08785763]), array([0.00886353, 0.01063932, 0.01233001, 0.0120708 , 0.01265499,\n",
            "       0.01238804, 0.01193925, 0.01132798, 0.01321984, 0.01492601,\n",
            "       0.01439984, 0.01151755, 0.0142683 , 0.01156011, 0.02171583,\n",
            "       0.02093045, 0.0219557 , 0.02417255, 0.02551503, 0.02540284,\n",
            "       0.02498888, 0.02675307, 0.02841279, 0.03029307, 0.03333011,\n",
            "       0.03970984, 0.03980655, 0.04335816, 0.04601218, 0.0414508 ,\n",
            "       0.04320727, 0.04317245, 0.0480975 , 0.04739723, 0.04869328,\n",
            "       0.05102233, 0.05231841, 0.05605184, 0.05877165, 0.05955701,\n",
            "       0.0598317 , 0.05518136, 0.05405938, 0.05422575, 0.05859753,\n",
            "       0.05982784, 0.06247025, 0.0686991 , 0.07700938, 0.0754541 ,\n",
            "       0.07545796, 0.08146629, 0.08334654, 0.08200792, 0.08078538,\n",
            "       0.07951253, 0.08374116, 0.08664281, 0.08785763, 0.08485539])]\n",
            "[0.08485539492813565, 0.08086662151222263]\n",
            "\n"
          ],
          "name": "stdout"
        }
      ]
    },
    {
      "cell_type": "code",
      "metadata": {
        "id": "3pwS2Rbkw9Rm",
        "colab_type": "code",
        "colab": {
          "base_uri": "https://localhost:8080/",
          "height": 34
        },
        "outputId": "74288378-f1fd-40f8-b90d-3a84b7c17942"
      },
      "source": [
        "# Convert the x_train and y_train to numpy arrays\n",
        "x_train, y_train = np.array(x_train), np.array(y_train)\n",
        "\n",
        "x_train.shape"
      ],
      "execution_count": null,
      "outputs": [
        {
          "output_type": "execute_result",
          "data": {
            "text/plain": [
              "(1668, 60)"
            ]
          },
          "metadata": {
            "tags": []
          },
          "execution_count": 9
        }
      ]
    },
    {
      "cell_type": "code",
      "metadata": {
        "id": "ltWjUZO6xvA2",
        "colab_type": "code",
        "colab": {
          "base_uri": "https://localhost:8080/",
          "height": 34
        },
        "outputId": "9c40a244-dbbc-4653-9997-d39f4208940f"
      },
      "source": [
        "# Reshape the x_train\n",
        "x_train = np.reshape(x_train, (x_train.shape[0], x_train.shape[1], 1))\n",
        "x_train.shape"
      ],
      "execution_count": null,
      "outputs": [
        {
          "output_type": "execute_result",
          "data": {
            "text/plain": [
              "(1668, 60, 1)"
            ]
          },
          "metadata": {
            "tags": []
          },
          "execution_count": 10
        }
      ]
    },
    {
      "cell_type": "code",
      "metadata": {
        "id": "zNEqiCosyHxk",
        "colab_type": "code",
        "colab": {}
      },
      "source": [
        ""
      ],
      "execution_count": null,
      "outputs": []
    },
    {
      "cell_type": "markdown",
      "metadata": {
        "id": "u-WQe_zTyUAR",
        "colab_type": "text"
      },
      "source": [
        "## LSTM Model"
      ]
    },
    {
      "cell_type": "code",
      "metadata": {
        "id": "4qPkR5kPyWOD",
        "colab_type": "code",
        "colab": {}
      },
      "source": [
        "# build the LSTM model\n",
        "model = Sequential()\n",
        "model.add(LSTM(50, return_sequences=True, input_shape=(x_train.shape[1],1)))\n",
        "model.add(LSTM(50, return_sequences=False))\n",
        "model.add(Dense(25))\n",
        "model.add(Dense(1))"
      ],
      "execution_count": null,
      "outputs": []
    },
    {
      "cell_type": "code",
      "metadata": {
        "id": "SBDl5fKCyaBx",
        "colab_type": "code",
        "colab": {}
      },
      "source": [
        "# Compile the model\n",
        "model.compile(optimizer='adam', loss='mean_squared_error')\n"
      ],
      "execution_count": null,
      "outputs": []
    },
    {
      "cell_type": "code",
      "metadata": {
        "id": "vzMYHkVhzCju",
        "colab_type": "code",
        "colab": {
          "base_uri": "https://localhost:8080/",
          "height": 51
        },
        "outputId": "d781932c-b81c-48df-99d5-2e9592cdaf1d"
      },
      "source": [
        "# Train the model\n",
        "model.fit(x_train, y_train, batch_size=1, epochs=1)"
      ],
      "execution_count": null,
      "outputs": [
        {
          "output_type": "stream",
          "text": [
            "1668/1668 [==============================] - 39s 23ms/step - loss: 3.6290e-04\n"
          ],
          "name": "stdout"
        },
        {
          "output_type": "execute_result",
          "data": {
            "text/plain": [
              "<tensorflow.python.keras.callbacks.History at 0x7efff12a5fd0>"
            ]
          },
          "metadata": {
            "tags": []
          },
          "execution_count": 13
        }
      ]
    },
    {
      "cell_type": "code",
      "metadata": {
        "id": "D0lvyET7zNRf",
        "colab_type": "code",
        "colab": {}
      },
      "source": [
        ""
      ],
      "execution_count": null,
      "outputs": []
    },
    {
      "cell_type": "markdown",
      "metadata": {
        "id": "0L6ymmfLzcSR",
        "colab_type": "text"
      },
      "source": [
        "## Testing data set"
      ]
    },
    {
      "cell_type": "code",
      "metadata": {
        "id": "ePlSYZg_zdU0",
        "colab_type": "code",
        "colab": {}
      },
      "source": [
        "# Create a new array containing caled values from index ... to ...\n",
        "test_data = scaled_data[training_data_len-60:, :]\n",
        "# Create the data sets x_test, and y_test\n",
        "x_test = []\n",
        "y_test = dataset[training_data_len:, :]\n",
        "\n",
        "for i in range(60, len(test_data)):\n",
        "  x_test.append(test_data[i-60:i, 0])\n"
      ],
      "execution_count": null,
      "outputs": []
    },
    {
      "cell_type": "code",
      "metadata": {
        "id": "z92fXylyzrFs",
        "colab_type": "code",
        "colab": {}
      },
      "source": [
        "# Convert to numpy array\n",
        "x_test = np.array(x_test)"
      ],
      "execution_count": null,
      "outputs": []
    },
    {
      "cell_type": "code",
      "metadata": {
        "id": "ZLTngBw50b3n",
        "colab_type": "code",
        "colab": {
          "base_uri": "https://localhost:8080/",
          "height": 34
        },
        "outputId": "ccb2b109-19af-4e0b-bb59-b66842d365f8"
      },
      "source": [
        "# Reshape the data\n",
        "x_test = np.reshape(x_test, (x_test.shape[0], x_test.shape[1], 1))\n",
        "x_test.shape"
      ],
      "execution_count": null,
      "outputs": [
        {
          "output_type": "execute_result",
          "data": {
            "text/plain": [
              "(431, 60, 1)"
            ]
          },
          "metadata": {
            "tags": []
          },
          "execution_count": 16
        }
      ]
    },
    {
      "cell_type": "code",
      "metadata": {
        "id": "A7cl-VMV0j9d",
        "colab_type": "code",
        "colab": {}
      },
      "source": [
        "# Get the model predicted price values\n",
        "predictions = model.predict(x_test)\n",
        "predictions = scaler.inverse_transform(predictions)\n"
      ],
      "execution_count": null,
      "outputs": []
    },
    {
      "cell_type": "code",
      "metadata": {
        "id": "6VMxc6Zd1Ete",
        "colab_type": "code",
        "colab": {
          "base_uri": "https://localhost:8080/",
          "height": 34
        },
        "outputId": "52794de0-958a-483d-9778-3b34148959db"
      },
      "source": [
        "# Get the root mean squared error (RMSE)\n",
        "rmse = np.sqrt(np.mean(((predictions- y_test)**2)))\n",
        "rmse"
      ],
      "execution_count": null,
      "outputs": [
        {
          "output_type": "execute_result",
          "data": {
            "text/plain": [
              "11.168985852343347"
            ]
          },
          "metadata": {
            "tags": []
          },
          "execution_count": 18
        }
      ]
    },
    {
      "cell_type": "code",
      "metadata": {
        "id": "Tw8kZsJI1nrM",
        "colab_type": "code",
        "colab": {
          "base_uri": "https://localhost:8080/",
          "height": 139
        },
        "outputId": "df0717d2-0e9f-4b43-e7d4-f3c481182cce"
      },
      "source": [
        "# Plot the data\n",
        "\n",
        "train = data[:training_data_len]\n",
        "valid = data[training_data_len:]\n",
        "valid['Predictions'] = predictions\n"
      ],
      "execution_count": null,
      "outputs": [
        {
          "output_type": "stream",
          "text": [
            "/usr/local/lib/python3.6/dist-packages/ipykernel_launcher.py:5: SettingWithCopyWarning: \n",
            "A value is trying to be set on a copy of a slice from a DataFrame.\n",
            "Try using .loc[row_indexer,col_indexer] = value instead\n",
            "\n",
            "See the caveats in the documentation: https://pandas.pydata.org/pandas-docs/stable/user_guide/indexing.html#returning-a-view-versus-a-copy\n",
            "  \"\"\"\n"
          ],
          "name": "stderr"
        }
      ]
    },
    {
      "cell_type": "markdown",
      "metadata": {
        "id": "lOLE6pFF602h",
        "colab_type": "text"
      },
      "source": [
        "## Results"
      ]
    },
    {
      "cell_type": "code",
      "metadata": {
        "id": "gQlNm1Yt9yQ1",
        "colab_type": "code",
        "colab": {
          "base_uri": "https://localhost:8080/",
          "height": 425
        },
        "outputId": "3a2dcf6a-ddc5-447d-d750-3a8fe0d74ddc"
      },
      "source": [
        "\n",
        "# Visualize the data\n",
        "plt.figure(figsize=(16,8))\n",
        "plt.title('Model',  fontsize=20)\n",
        "plt.xlabel('Date', fontsize=18)\n",
        "plt.ylabel('Close Price SD ($)', fontsize=18)\n",
        "plt.plot(train['Close'])\n",
        "plt.plot(valid[['Close', 'Predictions']])\n",
        "plt.legend(['Train', 'Validation', 'Predictions'], loc='lower right')\n",
        "plt.show()"
      ],
      "execution_count": null,
      "outputs": [
        {
          "output_type": "display_data",
          "data": {
            "image/png": "[encoded data removed]",
            "text/plain": [
              "<Figure size 1152x576 with 1 Axes>"
            ]
          },
          "metadata": {
            "tags": [],
            "needs_background": "light"
          }
        }
      ]
    }
  ]
}